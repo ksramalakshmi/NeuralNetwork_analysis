{
  "nbformat": 4,
  "nbformat_minor": 0,
  "metadata": {
    "colab": {
      "provenance": [],
      "collapsed_sections": []
    },
    "kernelspec": {
      "name": "python3",
      "display_name": "Python 3"
    },
    "language_info": {
      "name": "python"
    },
    "accelerator": "GPU"
  },
  "cells": [
    {
      "cell_type": "code",
      "source": [
        "#Importing the necessary libraries\n",
        "import tensorflow as tf\n",
        "import numpy as np\n",
        "import pandas as pd\n",
        "import matplotlib.pyplot as plt \n",
        "from keras.datasets import cifar10\n",
        "from tensorflow.keras.preprocessing.image import ImageDataGenerator\n",
        "from keras.models import Sequential, Model\n",
        "from keras.layers import Dense, Dropout, Activation, Flatten\n",
        "from keras.layers import Conv2D, MaxPooling2D, ZeroPadding2D\n",
        "from keras.layers import BatchNormalization"
      ],
      "metadata": {
        "id": "UMbJ1RsiP5bx"
      },
      "execution_count": null,
      "outputs": []
    },
    {
      "cell_type": "code",
      "source": [
        "#Defining the function to return a compiled AlexNet Model with input shape (32, 32, 3)\n",
        "def create_model():\n",
        "  model = Sequential()\n",
        "  model.add(Conv2D(96, (11, 11), input_shape = (32, 32, 3), padding='same', kernel_regularizer='l2'))\n",
        "  model.add(BatchNormalization())\n",
        "  model.add(Activation('relu'))\n",
        "  model.add(MaxPooling2D(pool_size=(2,2)))\n",
        "\n",
        "  model.add(Conv2D(256, (5,5), padding='same'))\n",
        "  model.add(BatchNormalization())\n",
        "  model.add(Activation('relu'))\n",
        "  model.add(MaxPooling2D(pool_size=(2,2)))\n",
        "\n",
        "  model.add(Conv2D(256, (5,5), padding='same'))\n",
        "  model.add(BatchNormalization())\n",
        "  model.add(Activation('relu'))\n",
        "  model.add(MaxPooling2D(pool_size=(2,2)))\n",
        "\n",
        "  model.add(ZeroPadding2D((1,1)))\n",
        "  model.add(Conv2D(512, (3,3), padding='same'))\n",
        "  model.add(BatchNormalization())\n",
        "  model.add(Activation('relu'))\n",
        "  model.add(MaxPooling2D(pool_size=(2,2)))\n",
        "\n",
        "  model.add(ZeroPadding2D((1,1)))\n",
        "  model.add(Conv2D(1024, (3,3), padding='same'))\n",
        "  model.add(BatchNormalization())\n",
        "  model.add(Activation('relu'))\n",
        "\n",
        "  model.add(ZeroPadding2D((1,1)))\n",
        "  model.add(Conv2D(1024, (3,3), padding='same'))\n",
        "  model.add(BatchNormalization())\n",
        "  model.add(Activation('relu'))\n",
        "  model.add(MaxPooling2D(pool_size=(2,2)))\n",
        "\n",
        "  model.add(Flatten())\n",
        "  model.add(Dense(3072))\n",
        "  model.add(BatchNormalization())\n",
        "  model.add(Activation('relu'))\n",
        "  model.add(Dropout(0.5))\n",
        "\n",
        "  model.add(Dense(4096))\n",
        "  model.add(BatchNormalization())\n",
        "  model.add(Activation('relu'))\n",
        "  model.add(Dropout(0.5))\n",
        "\n",
        "  model.add(Dense(num_classes))\n",
        "  model.add(BatchNormalization())\n",
        "  model.add(Activation('softmax'))\n",
        "\n",
        "  model.compile(loss='categorical_crossentropy',\n",
        "                optimizer='adam',\n",
        "                metrics=['accuracy'])\n",
        "  return model "
      ],
      "metadata": {
        "id": "y5q-Tv_dQGK1"
      },
      "execution_count": null,
      "outputs": []
    },
    {
      "cell_type": "code",
      "source": [
        "#Loading the Cifar10 Dataset from Tensorflow datasets\n",
        "(x_train, y_train), (x_test, y_test) = cifar10.load_data()"
      ],
      "metadata": {
        "id": "BhZTgjpdQchO"
      },
      "execution_count": null,
      "outputs": []
    },
    {
      "cell_type": "code",
      "source": [
        "#Multi-dimensional array to a Single-dimensional array\n",
        "y_train = y_train.flatten()\n",
        "y_test = y_test.flatten()"
      ],
      "metadata": {
        "id": "5SKzPNzFQwka"
      },
      "execution_count": null,
      "outputs": []
    },
    {
      "cell_type": "code",
      "source": [
        "#Classes in the Cifar10 Dataset\n",
        "class_names = ['airplane', 'automobile', 'bird', 'cat', 'deer', 'dog', 'frog', 'horse', 'ship', 'truck']"
      ],
      "metadata": {
        "id": "_ekLTi6ZQ0Xh"
      },
      "execution_count": null,
      "outputs": []
    },
    {
      "cell_type": "code",
      "source": [
        "#Reshape 50000 tensors into a single 50000*32*32*3 array\n",
        "x_train=x_train.reshape(x_train.shape[0], x_train.shape[1], x_train.shape[2], 3)\n",
        "x_train=x_train / 255.0\n",
        "x_test = x_test.reshape(x_test.shape[0], x_test.shape[1], x_test.shape[2], 3)\n",
        "x_test=x_test / 255.0"
      ],
      "metadata": {
        "id": "L4P6DBMDTeEa"
      },
      "execution_count": null,
      "outputs": []
    },
    {
      "cell_type": "code",
      "source": [
        "#One-hot Encoding for prediction labels\n",
        "y_train = tf.one_hot(y_train.astype(np.int32), depth=10)\n",
        "y_test = tf.one_hot(y_test.astype(np.int32), depth=10)\n",
        "y_train[0]"
      ],
      "metadata": {
        "colab": {
          "base_uri": "https://localhost:8080/"
        },
        "id": "TQCJSTyiUnTt",
        "outputId": "cea55e4f-b543-419d-e5fa-c6e3558cc590"
      },
      "execution_count": null,
      "outputs": [
        {
          "output_type": "execute_result",
          "data": {
            "text/plain": [
              "<tf.Tensor: shape=(10,), dtype=float32, numpy=array([0., 0., 0., 0., 0., 0., 1., 0., 0., 0.], dtype=float32)>"
            ]
          },
          "metadata": {},
          "execution_count": 44
        }
      ]
    },
    {
      "cell_type": "code",
      "source": [
        "#Visualising training dataset\n",
        "plt.imshow(x_train[10])\n",
        "print(y_train[10])"
      ],
      "metadata": {
        "colab": {
          "base_uri": "https://localhost:8080/",
          "height": 283
        },
        "id": "yRu4ApxXUsfm",
        "outputId": "f204c0ec-66ab-4a5e-a34a-3aefa780c981"
      },
      "execution_count": null,
      "outputs": [
        {
          "output_type": "stream",
          "name": "stdout",
          "text": [
            "tf.Tensor([0. 0. 0. 0. 1. 0. 0. 0. 0. 0.], shape=(10,), dtype=float32)\n"
          ]
        },
        {
          "output_type": "display_data",
          "data": {
            "text/plain": [
              "<Figure size 432x288 with 1 Axes>"
            ],
            "image/png": "[encoded data removed]"
          },
          "metadata": {
            "needs_background": "light"
          }
        }
      ]
    },
    {
      "cell_type": "code",
      "source": [
        "#Hyper-parameters for the model\n",
        "batch_size = 32\n",
        "num_classes = 10\n",
        "epochs = 40"
      ],
      "metadata": {
        "id": "xyI53196VKPx"
      },
      "execution_count": null,
      "outputs": []
    },
    {
      "cell_type": "code",
      "source": [
        "#Instantiating model and model summary\n",
        "model = create_model()\n",
        "model.summary()"
      ],
      "metadata": {
        "colab": {
          "base_uri": "https://localhost:8080/"
        },
        "id": "E6cl8OlbTZh-",
        "outputId": "e0534a45-ab4c-4c4f-d5eb-7be59d2a05c8"
      },
      "execution_count": null,
      "outputs": [
        {
          "output_type": "stream",
          "name": "stdout",
          "text": [
            "Model: \"sequential_3\"\n",
            "_________________________________________________________________\n",
            " Layer (type)                Output Shape              Param #   \n",
            "=================================================================\n",
            " conv2d_18 (Conv2D)          (None, 32, 32, 96)        34944     \n",
            "                                                                 \n",
            " batch_normalization_27 (Bat  (None, 32, 32, 96)       384       \n",
            " chNormalization)                                                \n",
            "                                                                 \n",
            " activation_27 (Activation)  (None, 32, 32, 96)        0         \n",
            "                                                                 \n",
            " max_pooling2d_15 (MaxPoolin  (None, 16, 16, 96)       0         \n",
            " g2D)                                                            \n",
            "                                                                 \n",
            " conv2d_19 (Conv2D)          (None, 16, 16, 256)       614656    \n",
            "                                                                 \n",
            " batch_normalization_28 (Bat  (None, 16, 16, 256)      1024      \n",
            " chNormalization)                                                \n",
            "                                                                 \n",
            " activation_28 (Activation)  (None, 16, 16, 256)       0         \n",
            "                                                                 \n",
            " max_pooling2d_16 (MaxPoolin  (None, 8, 8, 256)        0         \n",
            " g2D)                                                            \n",
            "                                                                 \n",
            " conv2d_20 (Conv2D)          (None, 8, 8, 256)         1638656   \n",
            "                                                                 \n",
            " batch_normalization_29 (Bat  (None, 8, 8, 256)        1024      \n",
            " chNormalization)                                                \n",
            "                                                                 \n",
            " activation_29 (Activation)  (None, 8, 8, 256)         0         \n",
            "                                                                 \n",
            " max_pooling2d_17 (MaxPoolin  (None, 4, 4, 256)        0         \n",
            " g2D)                                                            \n",
            "                                                                 \n",
            " zero_padding2d_9 (ZeroPaddi  (None, 6, 6, 256)        0         \n",
            " ng2D)                                                           \n",
            "                                                                 \n",
            " conv2d_21 (Conv2D)          (None, 6, 6, 512)         1180160   \n",
            "                                                                 \n",
            " batch_normalization_30 (Bat  (None, 6, 6, 512)        2048      \n",
            " chNormalization)                                                \n",
            "                                                                 \n",
            " activation_30 (Activation)  (None, 6, 6, 512)         0         \n",
            "                                                                 \n",
            " max_pooling2d_18 (MaxPoolin  (None, 3, 3, 512)        0         \n",
            " g2D)                                                            \n",
            "                                                                 \n",
            " zero_padding2d_10 (ZeroPadd  (None, 5, 5, 512)        0         \n",
            " ing2D)                                                          \n",
            "                                                                 \n",
            " conv2d_22 (Conv2D)          (None, 5, 5, 1024)        4719616   \n",
            "                                                                 \n",
            " batch_normalization_31 (Bat  (None, 5, 5, 1024)       4096      \n",
            " chNormalization)                                                \n",
            "                                                                 \n",
            " activation_31 (Activation)  (None, 5, 5, 1024)        0         \n",
            "                                                                 \n",
            " zero_padding2d_11 (ZeroPadd  (None, 7, 7, 1024)       0         \n",
            " ing2D)                                                          \n",
            "                                                                 \n",
            " conv2d_23 (Conv2D)          (None, 7, 7, 1024)        9438208   \n",
            "                                                                 \n",
            " batch_normalization_32 (Bat  (None, 7, 7, 1024)       4096      \n",
            " chNormalization)                                                \n",
            "                                                                 \n",
            " activation_32 (Activation)  (None, 7, 7, 1024)        0         \n",
            "                                                                 \n",
            " max_pooling2d_19 (MaxPoolin  (None, 3, 3, 1024)       0         \n",
            " g2D)                                                            \n",
            "                                                                 \n",
            " flatten_3 (Flatten)         (None, 9216)              0         \n",
            "                                                                 \n",
            " dense_9 (Dense)             (None, 3072)              28314624  \n",
            "                                                                 \n",
            " batch_normalization_33 (Bat  (None, 3072)             12288     \n",
            " chNormalization)                                                \n",
            "                                                                 \n",
            " activation_33 (Activation)  (None, 3072)              0         \n",
            "                                                                 \n",
            " dropout_6 (Dropout)         (None, 3072)              0         \n",
            "                                                                 \n",
            " dense_10 (Dense)            (None, 4096)              12587008  \n",
            "                                                                 \n",
            " batch_normalization_34 (Bat  (None, 4096)             16384     \n",
            " chNormalization)                                                \n",
            "                                                                 \n",
            " activation_34 (Activation)  (None, 4096)              0         \n",
            "                                                                 \n",
            " dropout_7 (Dropout)         (None, 4096)              0         \n",
            "                                                                 \n",
            " dense_11 (Dense)            (None, 10)                40970     \n",
            "                                                                 \n",
            " batch_normalization_35 (Bat  (None, 10)               40        \n",
            " chNormalization)                                                \n",
            "                                                                 \n",
            " activation_35 (Activation)  (None, 10)                0         \n",
            "                                                                 \n",
            "=================================================================\n",
            "Total params: 58,610,226\n",
            "Trainable params: 58,589,534\n",
            "Non-trainable params: 20,692\n",
            "_________________________________________________________________\n"
          ]
        }
      ]
    },
    {
      "cell_type": "code",
      "source": [
        "#Training model\n",
        "history = model.fit(x_train, y_train,\n",
        "                    epochs=epochs,\n",
        "                    batch_size=batch_size,\n",
        "                    callbacks=[\n",
        "                        tf.keras.callbacks.EarlyStopping(\n",
        "                            monitor='loss',\n",
        "                            patience=1,\n",
        "                            restore_best_weights=True\n",
        "                        )\n",
        "                    ])"
      ],
      "metadata": {
        "colab": {
          "base_uri": "https://localhost:8080/"
        },
        "id": "1fQ-CperUwnk",
        "outputId": "756ba5f9-fb68-4500-e31d-32ed8ccda426"
      },
      "execution_count": null,
      "outputs": [
        {
          "output_type": "stream",
          "name": "stdout",
          "text": [
            "Epoch 1/40\n",
            "1563/1563 [==============================] - 84s 54ms/step - loss: 1.2804 - accuracy: 0.5715\n",
            "Epoch 2/40\n",
            "1563/1563 [==============================] - 83s 53ms/step - loss: 1.0862 - accuracy: 0.6459\n",
            "Epoch 3/40\n",
            "1563/1563 [==============================] - 83s 53ms/step - loss: 0.9409 - accuracy: 0.7020\n",
            "Epoch 4/40\n",
            "1563/1563 [==============================] - 83s 53ms/step - loss: 0.8167 - accuracy: 0.7442\n",
            "Epoch 5/40\n",
            "1563/1563 [==============================] - 83s 53ms/step - loss: 0.7053 - accuracy: 0.7839\n",
            "Epoch 6/40\n",
            "1563/1563 [==============================] - 83s 53ms/step - loss: 0.6007 - accuracy: 0.8193\n",
            "Epoch 7/40\n",
            "1563/1563 [==============================] - 84s 53ms/step - loss: 0.4923 - accuracy: 0.8570\n",
            "Epoch 8/40\n",
            "1563/1563 [==============================] - 83s 53ms/step - loss: 0.4027 - accuracy: 0.8873\n",
            "Epoch 9/40\n",
            "1563/1563 [==============================] - 82s 53ms/step - loss: 0.3355 - accuracy: 0.9112\n",
            "Epoch 10/40\n",
            "1563/1563 [==============================] - 83s 53ms/step - loss: 0.2725 - accuracy: 0.9314\n",
            "Epoch 11/40\n",
            "1563/1563 [==============================] - 82s 53ms/step - loss: 0.2441 - accuracy: 0.9401\n",
            "Epoch 12/40\n",
            "1563/1563 [==============================] - 82s 53ms/step - loss: 0.2134 - accuracy: 0.9492\n",
            "Epoch 13/40\n",
            "1563/1563 [==============================] - 82s 53ms/step - loss: 0.1913 - accuracy: 0.9554\n",
            "Epoch 14/40\n",
            "1563/1563 [==============================] - 82s 53ms/step - loss: 0.1732 - accuracy: 0.9602\n",
            "Epoch 15/40\n",
            "1563/1563 [==============================] - 82s 53ms/step - loss: 0.1648 - accuracy: 0.9633\n",
            "Epoch 16/40\n",
            "1563/1563 [==============================] - 82s 53ms/step - loss: 0.1509 - accuracy: 0.9671\n",
            "Epoch 17/40\n",
            "1563/1563 [==============================] - 82s 53ms/step - loss: 0.1424 - accuracy: 0.9693\n",
            "Epoch 18/40\n",
            "1563/1563 [==============================] - 82s 52ms/step - loss: 0.1332 - accuracy: 0.9724\n",
            "Epoch 19/40\n",
            "1563/1563 [==============================] - 82s 52ms/step - loss: 0.1318 - accuracy: 0.9727\n",
            "Epoch 20/40\n",
            "1563/1563 [==============================] - 82s 52ms/step - loss: 0.1254 - accuracy: 0.9742\n",
            "Epoch 21/40\n",
            "1563/1563 [==============================] - 82s 52ms/step - loss: 0.1201 - accuracy: 0.9752\n",
            "Epoch 22/40\n",
            "1563/1563 [==============================] - 82s 52ms/step - loss: 0.1175 - accuracy: 0.9757\n",
            "Epoch 23/40\n",
            "1563/1563 [==============================] - 82s 52ms/step - loss: 0.1099 - accuracy: 0.9788\n",
            "Epoch 24/40\n",
            "1563/1563 [==============================] - 82s 52ms/step - loss: 0.1097 - accuracy: 0.9785\n",
            "Epoch 25/40\n",
            "1563/1563 [==============================] - 82s 52ms/step - loss: 0.1019 - accuracy: 0.9804\n",
            "Epoch 26/40\n",
            "1563/1563 [==============================] - 82s 52ms/step - loss: 0.0993 - accuracy: 0.9818\n",
            "Epoch 27/40\n",
            "1563/1563 [==============================] - 81s 52ms/step - loss: 0.1003 - accuracy: 0.9809\n"
          ]
        }
      ]
    },
    {
      "cell_type": "code",
      "source": [
        "# accuracy visualization\n",
        "pd.DataFrame(history.history)[['accuracy']].plot()\n",
        "plt.title(\"Accuracy\")\n",
        "plt.show()"
      ],
      "metadata": {
        "id": "WCm7M_h3VpFQ",
        "colab": {
          "base_uri": "https://localhost:8080/",
          "height": 281
        },
        "outputId": "32a26062-5559-4711-a071-6e124be9d956"
      },
      "execution_count": null,
      "outputs": [
        {
          "output_type": "display_data",
          "data": {
            "text/plain": [
              "<Figure size 432x288 with 1 Axes>"
            ],
            "image/png": "[encoded data removed]"
          },
          "metadata": {
            "needs_background": "light"
          }
        }
      ]
    },
    {
      "cell_type": "code",
      "source": [
        "#loss visualisation\n",
        "pd.DataFrame(history.history)[['loss']].plot()\n",
        "plt.title(\"Loss\")\n",
        "plt.show()"
      ],
      "metadata": {
        "colab": {
          "base_uri": "https://localhost:8080/",
          "height": 281
        },
        "id": "xIs9owYasYbz",
        "outputId": "7cffc494-eb2b-44df-c203-33d2b03f249a"
      },
      "execution_count": null,
      "outputs": [
        {
          "output_type": "display_data",
          "data": {
            "text/plain": [
              "<Figure size 432x288 with 1 Axes>"
            ],
            "image/png": "[encoded data removed]"
          },
          "metadata": {
            "needs_background": "light"
          }
        }
      ]
    },
    {
      "cell_type": "code",
      "source": [
        "#testing an image\n",
        "from tensorflow.keras.utils import img_to_array, load_img\n",
        "\n",
        "path = '/content/aeroplane.jpg'\n",
        "img = load_img(path, target_size=(32, 32))\n",
        "x = img_to_array(img)\n",
        "x /= 255\n",
        "x = np.expand_dims(x, axis=0)\n",
        "images = np.vstack([x])\n",
        "classes = model.predict(images, batch_size=10)\n",
        "prediction = np.argmax(classes[0])\n",
        "print(class_names[prediction])"
      ],
      "metadata": {
        "colab": {
          "base_uri": "https://localhost:8080/"
        },
        "id": "hVZvPx4b3f_N",
        "outputId": "f898a1f7-788e-48b6-8945-825e6b5abffb"
      },
      "execution_count": null,
      "outputs": [
        {
          "output_type": "stream",
          "name": "stdout",
          "text": [
            "1/1 [==============================] - 0s 17ms/step\n",
            "airplane\n"
          ]
        }
      ]
    },
    {
      "cell_type": "code",
      "source": [
        "plt.imshow(classes)\n",
        "plt.imshow(x[0])\n",
        "print (x.shape)"
      ],
      "metadata": {
        "colab": {
          "base_uri": "https://localhost:8080/",
          "height": 283
        },
        "id": "c_-Th7zQIuqw",
        "outputId": "1fb95b50-756a-4649-cdd4-64a8f7bab925"
      },
      "execution_count": null,
      "outputs": [
        {
          "output_type": "stream",
          "name": "stdout",
          "text": [
            "(1, 32, 32, 3)\n"
          ]
        },
        {
          "output_type": "display_data",
          "data": {
            "text/plain": [
              "<Figure size 432x288 with 1 Axes>"
            ],
            "image/png": "[encoded data removed]"
          },
          "metadata": {
            "needs_background": "light"
          }
        }
      ]
    },
    {
      "cell_type": "code",
      "source": [
        "from tensorflow.keras.models import Model\n",
        "\n",
        "layer_outputs = [layer.output for layer in model.layers[:len(model.layers)]]\n",
        "activation_modelfig = Model(inputs=model.input, outputs=layer_outputs)\n",
        "activationsfig = activation_modelfig.predict(x)"
      ],
      "metadata": {
        "colab": {
          "base_uri": "https://localhost:8080/"
        },
        "id": "QAmo6cdII8bb",
        "outputId": "2e0367e9-385d-4403-9308-6215addf194e"
      },
      "execution_count": null,
      "outputs": [
        {
          "output_type": "stream",
          "name": "stdout",
          "text": [
            "1/1 [==============================] - 0s 230ms/step\n"
          ]
        }
      ]
    },
    {
      "cell_type": "code",
      "source": [
        "first_layer_activation = activationsfig[0]\n",
        "print(first_layer_activation.shape)\n",
        "plt.matshow(first_layer_activation[0, :, :, 2], cmap='viridis')"
      ],
      "metadata": {
        "colab": {
          "base_uri": "https://localhost:8080/",
          "height": 310
        },
        "id": "1xsqJayVJCwm",
        "outputId": "ba79b1a0-059f-4bc0-b1e9-f74c66906387"
      },
      "execution_count": null,
      "outputs": [
        {
          "output_type": "stream",
          "name": "stdout",
          "text": [
            "(1, 32, 32, 96)\n"
          ]
        },
        {
          "output_type": "execute_result",
          "data": {
            "text/plain": [
              "<matplotlib.image.AxesImage at 0x7f63a5cda210>"
            ]
          },
          "metadata": {},
          "execution_count": 78
        },
        {
          "output_type": "display_data",
          "data": {
            "text/plain": [
              "<Figure size 288x288 with 1 Axes>"
            ],
            "image/png": "[encoded data removed]"
          },
          "metadata": {
            "needs_background": "light"
          }
        }
      ]
    },
    {
      "cell_type": "code",
      "source": [
        "for i in range(0,16):\n",
        "    current_layer_activation = activationsfig[i]\n",
        "    ns = current_layer_activation.shape[-1]\n",
        "    fig = plt.figure()\n",
        "    ax1 = fig.add_subplot(131)\n",
        "    plt.subplot(131)\n",
        "    plt.imshow(current_layer_activation[0, :, :, 0], cmap='viridis')\n",
        "    \n",
        "    ax3 = fig.add_subplot(132)\n",
        "    plt.subplot(132)\n",
        "    plt.imshow(current_layer_activation[0, :, :, int(ns/2)], cmap='viridis')\n",
        "    \n",
        "    ax5 = fig.add_subplot(133)\n",
        "    plt.subplot(133)\n",
        "    plt.imshow(current_layer_activation[0, :, :, ns-1], cmap='viridis')"
      ],
      "metadata": {
        "colab": {
          "base_uri": "https://localhost:8080/",
          "height": 1000
        },
        "id": "Cu-8YGaIJNVQ",
        "outputId": "2bffd54b-c8e7-4a09-980d-60b9a6c53704"
      },
      "execution_count": null,
      "outputs": [
        {
          "output_type": "stream",
          "name": "stderr",
          "text": [
            "/usr/local/lib/python3.7/dist-packages/ipykernel_launcher.py:6: MatplotlibDeprecationWarning: Adding an axes using the same arguments as a previous axes currently reuses the earlier instance.  In a future version, a new instance will always be created and returned.  Meanwhile, this warning can be suppressed, and the future behavior ensured, by passing a unique label to each axes instance.\n",
            "  \n",
            "/usr/local/lib/python3.7/dist-packages/ipykernel_launcher.py:10: MatplotlibDeprecationWarning: Adding an axes using the same arguments as a previous axes currently reuses the earlier instance.  In a future version, a new instance will always be created and returned.  Meanwhile, this warning can be suppressed, and the future behavior ensured, by passing a unique label to each axes instance.\n",
            "  # Remove the CWD from sys.path while we load stuff.\n",
            "/usr/local/lib/python3.7/dist-packages/ipykernel_launcher.py:14: MatplotlibDeprecationWarning: Adding an axes using the same arguments as a previous axes currently reuses the earlier instance.  In a future version, a new instance will always be created and returned.  Meanwhile, this warning can be suppressed, and the future behavior ensured, by passing a unique label to each axes instance.\n",
            "  \n"
          ]
        },
        {
          "output_type": "display_data",
          "data": {
            "text/plain": [
              "<Figure size 432x288 with 3 Axes>"
            ],
            "image/png": "[encoded data removed]"
          },
          "metadata": {
            "needs_background": "light"
          }
        },
        {
          "output_type": "display_data",
          "data": {
            "text/plain": [
              "<Figure size 432x288 with 3 Axes>"
            ],
            "image/png": "[encoded data removed]"
          },
          "metadata": {
            "needs_background": "light"
          }
        },
        {
          "output_type": "display_data",
          "data": {
            "text/plain": [
              "<Figure size 432x288 with 3 Axes>"
            ],
            "image/png": "[encoded data removed]"
          },
          "metadata": {
            "needs_background": "light"
          }
        },
        {
          "output_type": "display_data",
          "data": {
            "text/plain": [
              "<Figure size 432x288 with 3 Axes>"
            ],
            "image/png": "[encoded data removed]"
          },
          "metadata": {
            "needs_background": "light"
          }
        },
        {
          "output_type": "display_data",
          "data": {
            "text/plain": [
              "<Figure size 432x288 with 3 Axes>"
            ],
            "image/png": "[encoded data removed]"
          },
          "metadata": {
            "needs_background": "light"
          }
        },
        {
          "output_type": "display_data",
          "data": {
            "text/plain": [
              "<Figure size 432x288 with 3 Axes>"
            ],
            "image/png": "[encoded data removed]"
          },
          "metadata": {
            "needs_background": "light"
          }
        },
        {
          "output_type": "display_data",
          "data": {
            "text/plain": [
              "<Figure size 432x288 with 3 Axes>"
            ],
            "image/png": "[encoded data removed]"
          },
          "metadata": {
            "needs_background": "light"
          }
        },
        {
          "output_type": "display_data",
          "data": {
            "text/plain": [
              "<Figure size 432x288 with 3 Axes>"
            ],
            "image/png": "[encoded data removed]"
          },
          "metadata": {
            "needs_background": "light"
          }
        },
        {
          "output_type": "display_data",
          "data": {
            "text/plain": [
              "<Figure size 432x288 with 3 Axes>"
            ],
            "image/png": "[encoded data removed]"
          },
          "metadata": {
            "needs_background": "light"
          }
        },
        {
          "output_type": "display_data",
          "data": {
            "text/plain": [
              "<Figure size 432x288 with 3 Axes>"
            ],
            "image/png": "[encoded data removed]"
          },
          "metadata": {
            "needs_background": "light"
          }
        },
        {
          "output_type": "display_data",
          "data": {
            "text/plain": [
              "<Figure size 432x288 with 3 Axes>"
            ],
            "image/png": "[encoded data removed]"
          },
          "metadata": {
            "needs_background": "light"
          }
        },
        {
          "output_type": "display_data",
          "data": {
            "text/plain": [
              "<Figure size 432x288 with 3 Axes>"
            ],
            "image/png": "[encoded data removed]"
          },
          "metadata": {
            "needs_background": "light"
          }
        },
        {
          "output_type": "display_data",
          "data": {
            "text/plain": [
              "<Figure size 432x288 with 3 Axes>"
            ],
            "image/png": "[encoded data removed]"
          },
          "metadata": {
            "needs_background": "light"
          }
        },
        {
          "output_type": "display_data",
          "data": {
            "text/plain": [
              "<Figure size 432x288 with 3 Axes>"
            ],
            "image/png": "[encoded data removed]"
          },
          "metadata": {
            "needs_background": "light"
          }
        },
        {
          "output_type": "display_data",
          "data": {
            "text/plain": [
              "<Figure size 432x288 with 3 Axes>"
            ],
            "image/png": "[encoded data removed]"
          },
          "metadata": {
            "needs_background": "light"
          }
        },
        {
          "output_type": "display_data",
          "data": {
            "text/plain": [
              "<Figure size 432x288 with 3 Axes>"
            ],
            "image/png": "[encoded data removed]"
          },
          "metadata": {
            "needs_background": "light"
          }
        }
      ]
    },
    {
      "cell_type": "code",
      "source": [],
      "metadata": {
        "id": "_JmxsLLkHLXO"
      },
      "execution_count": null,
      "outputs": []
    }
  ]
}